{
 "cells": [
  {
   "cell_type": "markdown",
   "id": "00daee66-da37-419c-893f-cbcecaa4e1bc",
   "metadata": {},
   "source": [
    "# My Jupyter Notebook on IBM Watson Studio"
   ]
  },
  {
   "cell_type": "markdown",
   "id": "9f3da224-ee45-4213-8925-4abc2bb7d82c",
   "metadata": {},
   "source": [
    "__Jerardo Reynaga__"
   ]
  },
  {
   "cell_type": "markdown",
   "id": "7c36db25-ea00-4eb4-bf04-a1d37535d90c",
   "metadata": {},
   "source": [
    "_I am interested in data science because there are many different areas in which you're able to get to since there's data basically everywhere._"
   ]
  },
  {
   "cell_type": "markdown",
   "id": "5a739cd3-3139-412b-b58d-fbf98fb2856d",
   "metadata": {},
   "source": [
    "### The following code is to find the solution to the equation"
   ]
  },
  {
   "cell_type": "code",
   "execution_count": 2,
   "id": "2f364948-94cd-4dca-b7af-7f0a6fc7fd2f",
   "metadata": {},
   "outputs": [
    {
     "data": {
      "text/plain": [
       "2"
      ]
     },
     "execution_count": 2,
     "metadata": {},
     "output_type": "execute_result"
    }
   ],
   "source": [
    "1+1"
   ]
  },
  {
   "cell_type": "markdown",
   "id": "0aa1fe4b-d7f5-49b8-b44b-c03847a502a7",
   "metadata": {},
   "source": [
    "- one"
   ]
  },
  {
   "cell_type": "markdown",
   "id": "56809844-895e-4f8a-8f77-5bc6aa6eb60b",
   "metadata": {},
   "source": [
    "- two"
   ]
  },
  {
   "cell_type": "markdown",
   "id": "e4d95481-f5a3-4f8a-afd3-311458342047",
   "metadata": {},
   "source": [
    "- three"
   ]
  },
  {
   "cell_type": "code",
   "execution_count": null,
   "id": "58815f27-7643-423e-b9a1-c74143c9a0ea",
   "metadata": {},
   "outputs": [],
   "source": []
  }
 ],
 "metadata": {
  "kernelspec": {
   "display_name": "Python",
   "language": "python",
   "name": "conda-env-python-py"
  },
  "language_info": {
   "codemirror_mode": {
    "name": "ipython",
    "version": 3
   },
   "file_extension": ".py",
   "mimetype": "text/x-python",
   "name": "python",
   "nbconvert_exporter": "python",
   "pygments_lexer": "ipython3",
   "version": "3.7.12"
  }
 },
 "nbformat": 4,
 "nbformat_minor": 5
}
